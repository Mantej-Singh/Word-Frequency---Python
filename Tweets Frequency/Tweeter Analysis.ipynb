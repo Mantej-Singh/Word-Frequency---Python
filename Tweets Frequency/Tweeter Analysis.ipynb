{
 "cells": [
  {
   "cell_type": "markdown",
   "metadata": {},
   "source": [
    "# Analysing twitter data with Pandas"
   ]
  },
  {
   "cell_type": "markdown",
   "metadata": {},
   "source": [
    "# ![s](https://s19.postimg.org/3z75lt9gz/screenshot_1490978130.png)"
   ]
  },
  {
   "cell_type": "code",
   "execution_count": 1,
   "metadata": {
    "collapsed": true
   },
   "outputs": [],
   "source": [
    "import pandas as pd\n",
    "import string\n",
    "import re"
   ]
  },
  {
   "cell_type": "code",
   "execution_count": 2,
   "metadata": {
    "collapsed": false
   },
   "outputs": [],
   "source": [
    "tweet_df = pd.read_csv('tweet_activity_metrics.csv',encoding='ISO-8859-1')"
   ]
  },
  {
   "cell_type": "code",
   "execution_count": 3,
   "metadata": {
    "collapsed": false
   },
   "outputs": [
    {
     "data": {
      "text/html": [
       "<div>\n",
       "<table border=\"1\" class=\"dataframe\">\n",
       "  <thead>\n",
       "    <tr style=\"text-align: right;\">\n",
       "      <th></th>\n",
       "      <th>Tweet id</th>\n",
       "      <th>Tweet permalink</th>\n",
       "      <th>Tweet text</th>\n",
       "      <th>time</th>\n",
       "      <th>impressions</th>\n",
       "      <th>engagements</th>\n",
       "      <th>engagement rate</th>\n",
       "      <th>retweets</th>\n",
       "      <th>replies</th>\n",
       "      <th>favorites</th>\n",
       "      <th>user profile clicks</th>\n",
       "      <th>url clicks</th>\n",
       "      <th>hashtag clicks</th>\n",
       "    </tr>\n",
       "  </thead>\n",
       "  <tbody>\n",
       "    <tr>\n",
       "      <th>0</th>\n",
       "      <td>6.490000e+17</td>\n",
       "      <td>https://twitter.com/USCTrials/status/649293177...</td>\n",
       "      <td>Diagnosed with #KidneyCancer? Leading research...</td>\n",
       "      <td>2016-06-20 21:56:23</td>\n",
       "      <td>424</td>\n",
       "      <td>3</td>\n",
       "      <td>0.007075</td>\n",
       "      <td>12</td>\n",
       "      <td>0</td>\n",
       "      <td>2</td>\n",
       "      <td>0</td>\n",
       "      <td>1</td>\n",
       "      <td>0.0</td>\n",
       "    </tr>\n",
       "    <tr>\n",
       "      <th>1</th>\n",
       "      <td>6.490000e+17</td>\n",
       "      <td>https://twitter.com/USCTrials/status/649064976...</td>\n",
       "      <td>This clinical research study for #GynCSM is no...</td>\n",
       "      <td>2016-11-13 10:11:35</td>\n",
       "      <td>411</td>\n",
       "      <td>8</td>\n",
       "      <td>0.019465</td>\n",
       "      <td>3</td>\n",
       "      <td>0</td>\n",
       "      <td>1</td>\n",
       "      <td>1</td>\n",
       "      <td>4</td>\n",
       "      <td>0.0</td>\n",
       "    </tr>\n",
       "    <tr>\n",
       "      <th>2</th>\n",
       "      <td>6.490000e+17</td>\n",
       "      <td>https://twitter.com/USCTrials/status/648875195...</td>\n",
       "      <td>Looking to test a medical device? Partner with...</td>\n",
       "      <td>2016-01-22 3:29:41</td>\n",
       "      <td>548</td>\n",
       "      <td>8</td>\n",
       "      <td>0.014599</td>\n",
       "      <td>3</td>\n",
       "      <td>0</td>\n",
       "      <td>2</td>\n",
       "      <td>3</td>\n",
       "      <td>1</td>\n",
       "      <td>0.0</td>\n",
       "    </tr>\n",
       "    <tr>\n",
       "      <th>3</th>\n",
       "      <td>6.540000e+17</td>\n",
       "      <td>&lt;a href=\"http://twitter.com\" rel=\"nofollow\"&gt;Tw...</td>\n",
       "      <td>GLOBAL #STATISTICS UPDATE\\r(http://t.co/OsqHqo...</td>\n",
       "      <td>2016-05-30 4:25:15</td>\n",
       "      <td>548</td>\n",
       "      <td>23</td>\n",
       "      <td>0.000000</td>\n",
       "      <td>223</td>\n",
       "      <td>2</td>\n",
       "      <td>2</td>\n",
       "      <td>3</td>\n",
       "      <td>12</td>\n",
       "      <td>NaN</td>\n",
       "    </tr>\n",
       "    <tr>\n",
       "      <th>4</th>\n",
       "      <td>6.540000e+17</td>\n",
       "      <td>&lt;a href=\"http://twitter.com/download/android\" ...</td>\n",
       "      <td>RT @rugbyworldcup: Huge thank you LEEDS. Perfe...</td>\n",
       "      <td>2016-02-04 1:16:15</td>\n",
       "      <td>1769</td>\n",
       "      <td>42</td>\n",
       "      <td>2.000000</td>\n",
       "      <td>413</td>\n",
       "      <td>0</td>\n",
       "      <td>8</td>\n",
       "      <td>2</td>\n",
       "      <td>14</td>\n",
       "      <td>NaN</td>\n",
       "    </tr>\n",
       "  </tbody>\n",
       "</table>\n",
       "</div>"
      ],
      "text/plain": [
       "       Tweet id                                    Tweet permalink  \\\n",
       "0  6.490000e+17  https://twitter.com/USCTrials/status/649293177...   \n",
       "1  6.490000e+17  https://twitter.com/USCTrials/status/649064976...   \n",
       "2  6.490000e+17  https://twitter.com/USCTrials/status/648875195...   \n",
       "3  6.540000e+17  <a href=\"http://twitter.com\" rel=\"nofollow\">Tw...   \n",
       "4  6.540000e+17  <a href=\"http://twitter.com/download/android\" ...   \n",
       "\n",
       "                                          Tweet text                 time  \\\n",
       "0  Diagnosed with #KidneyCancer? Leading research...  2016-06-20 21:56:23   \n",
       "1  This clinical research study for #GynCSM is no...  2016-11-13 10:11:35   \n",
       "2  Looking to test a medical device? Partner with...   2016-01-22 3:29:41   \n",
       "3  GLOBAL #STATISTICS UPDATE\\r(http://t.co/OsqHqo...   2016-05-30 4:25:15   \n",
       "4  RT @rugbyworldcup: Huge thank you LEEDS. Perfe...   2016-02-04 1:16:15   \n",
       "\n",
       "   impressions  engagements  engagement rate  retweets  replies  favorites  \\\n",
       "0          424            3         0.007075        12        0          2   \n",
       "1          411            8         0.019465         3        0          1   \n",
       "2          548            8         0.014599         3        0          2   \n",
       "3          548           23         0.000000       223        2          2   \n",
       "4         1769           42         2.000000       413        0          8   \n",
       "\n",
       "   user profile clicks  url clicks  hashtag clicks  \n",
       "0                    0           1             0.0  \n",
       "1                    1           4             0.0  \n",
       "2                    3           1             0.0  \n",
       "3                    3          12             NaN  \n",
       "4                    2          14             NaN  "
      ]
     },
     "execution_count": 3,
     "metadata": {},
     "output_type": "execute_result"
    }
   ],
   "source": [
    "tweet_df.head()"
   ]
  },
  {
   "cell_type": "code",
   "execution_count": 4,
   "metadata": {
    "collapsed": false
   },
   "outputs": [
    {
     "name": "stdout",
     "output_type": "stream",
     "text": [
      "Total tweets this period: 103\n"
     ]
    }
   ],
   "source": [
    "# Total tweets\n",
    "print ('Total tweets this period:', len(tweet_df.index))"
   ]
  },
  {
   "cell_type": "code",
   "execution_count": 40,
   "metadata": {
    "collapsed": false
   },
   "outputs": [
    {
     "name": "stdout",
     "output_type": "stream",
     "text": [
      "Mean retweets: 240.6 \n",
      "\n",
      "Top 5 Re tweets:\n",
      "------------------ \n",
      "\n",
      "RT @TeamYanezUSA: #EduardoYañez @LaloYanezLue es #SantiagoGuzman en #Ladrones @LadronesMovie Ahora en cines #USA @PantelionFilms http://t.c",
      " -> 499\n",
      "Can you recommend anyone for this #BusinessMgmt #job? http://t.co/2wwa6WIAbw #USA #Hiring #CareerArc -> 498\n",
      "Director of Facilities and Operations: Spectrum of Hope, LLC, Houston, TX. http://t.co/YcBuhHqtEw #MBA #jobs #USA -> 486\n",
      "#ultimate http://t.co/tt9w7PDHy0 For Sale: DJI Phantom 2 VERSION 3 RTF UAV",
      " http://t.co/3wL2FsIJjc #usa #drone",
      " http://t.co/pfJgesotEp -> 483\n",
      "This #IT #job might be a great fit for you: Developer - http://t.co/nnnoRsx3y0 #USA #Veterans #Hiring #CareerArc -> 452\n",
      "\n",
      "\n"
     ]
    }
   ],
   "source": [
    "# Retweets\n",
    "tweet_df = tweet_df.sort_values(by='retweets', ascending=False)\n",
    "tweet_df = tweet_df.reset_index(drop=True)\n",
    "print ('Mean retweets:', round(tweet_df['retweets'].mean(),2), '\\n')\n",
    "print ('Top 5 Re tweets:')\n",
    "print ('------------------', '\\n')\n",
    "for i in range(5):\n",
    "    print (tweet_df['Tweet text'].ix[i], '->', tweet_df['retweets'].ix[i])\n",
    "print ('\\n')"
   ]
  },
  {
   "cell_type": "code",
   "execution_count": 6,
   "metadata": {
    "collapsed": false
   },
   "outputs": [
    {
     "name": "stdout",
     "output_type": "stream",
     "text": [
      "Mean likes: 4.76 \n",
      "\n",
      "Top 5 liked tweets:\n",
      "------------------- \n",
      "\n",
      "#USA HOT DEALS : http://t.co/ZCgPG7FIE0 NEW Electric Mayday Gloss Black Gray Womens Oversize Wrap Sunglasses Msrp",
      " http://t.co/HvUaOWW1rH -> 10\n",
      "Join the TD Bank US team! See our latest #BusinessMgmt #job opening here: http://t.co/pmNl1miSP8 #USA #Hiring #CareerArc -> 10\n",
      "This #IT #job might be a great fit for you: Developer - http://t.co/nnnoRsx3y0 #USA #Veterans #Hiring #CareerArc -> 10\n",
      "#SonHouse ~ 'Pony #Blues' (http://t.co/mOVmVmsPIo) #Chicago #Illinois #Memphis #Tennessee #Tupelo #Mississippi \"#Beadles is my Name.\" #USA -> 10\n",
      "RT @FunFactsNews: Trump Get Ready My Friend... #DonaldTrump #trump #elchapo #MexicanVines #usa #justdoit #doitforthevine #funny http://t.co",
      " -> 10\n"
     ]
    }
   ],
   "source": [
    "# Likes\n",
    "tweet_df = tweet_df.sort_values(by='favorites', ascending=False)\n",
    "tweet_df = tweet_df.reset_index(drop=True)\n",
    "print ('Mean likes:', round(tweet_df['favorites'].mean(),2), '\\n')\n",
    "print ('Top 5 liked tweets:')\n",
    "print ('-------------------', '\\n')\n",
    "for i in range(5):\n",
    "    print (tweet_df['Tweet text'].ix[i], '->', tweet_df['favorites'].ix[i])\n"
   ]
  },
  {
   "cell_type": "code",
   "execution_count": 7,
   "metadata": {
    "collapsed": false
   },
   "outputs": [
    {
     "name": "stdout",
     "output_type": "stream",
     "text": [
      "Mean impressions: 2704.27 \n",
      "\n",
      "Top 5 tweets with most impressions:\n",
      "----------------------------------- \n",
      "\n",
      "When you come too understand the voices of musical instruments, your entire world will be changed &amp; you'll have a better appreciation. #USA -> 4989\n",
      "#usa #AOU #BigBillionDaysTomorrow #IsraelKillsThekids https://t.co/tjqMFFaixo -> 4915\n",
      "Director of Facilities and Operations: Spectrum of Hope, LLC, Houston, TX. http://t.co/YcBuhHqtEw #MBA #jobs #USA -> 4913\n",
      "#MyGovHillary #HillaryClinton to want Strong Families #USA in #California Shandon - http://t.co/uHziNui02j http://t.co/mJNMKcpSas -> 4900\n",
      "We're #hiring! Read about our latest #job opening here: OTR Truck Driving Job - Home Bi-Weekly -... - http://t.co/cxuBxSiHFk #USA #Veterans -> 4882\n"
     ]
    }
   ],
   "source": [
    "# Impressions\n",
    "tweet_df = tweet_df.sort_values(by='impressions', ascending=False)\n",
    "tweet_df = tweet_df.reset_index(drop=True)\n",
    "print ('Mean impressions:', round(tweet_df['impressions'].mean(),2), '\\n')\n",
    "print ('Top 5 tweets with most impressions:')\n",
    "print ('-----------------------------------','\\n')\n",
    "for i in range(5):\n",
    "    print (tweet_df['Tweet text'].ix[i], '->', tweet_df['impressions'].ix[i])"
   ]
  },
  {
   "cell_type": "code",
   "execution_count": 8,
   "metadata": {
    "collapsed": true
   },
   "outputs": [],
   "source": [
    "# Hashtags & mentions\n",
    "tag_dict = {}\n",
    "mention_dict = {}\n",
    "#tweet_tokenized=[]\n",
    "tweets=[]"
   ]
  },
  {
   "cell_type": "code",
   "execution_count": null,
   "metadata": {
    "collapsed": true
   },
   "outputs": [],
   "source": []
  },
  {
   "cell_type": "code",
   "execution_count": 9,
   "metadata": {
    "collapsed": false
   },
   "outputs": [],
   "source": [
    "for i in range(len(tweet_df.index)):\n",
    "    tweet_text=tweet_df.ix[i]['Tweet text']\n",
    "    tweet=tweet_text.lower()\n",
    "    tweet_tokenized=tweet.split()\n",
    "    tweets.append(tweet)\n",
    "    #print(tweet)"
   ]
  },
  {
   "cell_type": "code",
   "execution_count": 11,
   "metadata": {
    "collapsed": false
   },
   "outputs": [],
   "source": [
    "#tweets\n",
    "    "
   ]
  },
  {
   "cell_type": "code",
   "execution_count": 12,
   "metadata": {
    "collapsed": true
   },
   "outputs": [],
   "source": [
    "freq={}"
   ]
  },
  {
   "cell_type": "code",
   "execution_count": 13,
   "metadata": {
    "collapsed": false
   },
   "outputs": [],
   "source": [
    "#tweet_tokenized"
   ]
  },
  {
   "cell_type": "code",
   "execution_count": 14,
   "metadata": {
    "collapsed": false
   },
   "outputs": [
    {
     "data": {
      "text/plain": [
       "['@because']"
      ]
     },
     "execution_count": 14,
     "metadata": {},
     "output_type": "execute_result"
    }
   ],
   "source": [
    "s=\"I love #stackoverflow @because #people are very #helpful!\"\n",
    "[i  for i in s.split() if i.startswith(\"@\") ]"
   ]
  },
  {
   "cell_type": "code",
   "execution_count": 15,
   "metadata": {
    "collapsed": false
   },
   "outputs": [
    {
     "data": {
      "text/plain": [
       "<filter at 0x5f12c10>"
      ]
     },
     "execution_count": 15,
     "metadata": {},
     "output_type": "execute_result"
    }
   ],
   "source": [
    "#re.findall(r\"#(\\w+)\", tweet_tokenized)\n",
    "r = re.compile(\".*cat\")\n",
    "newlist = filter(r.match, tweet_tokenized)\n",
    "newlist"
   ]
  },
  {
   "cell_type": "markdown",
   "metadata": {},
   "source": [
    "### Wokring"
   ]
  },
  {
   "cell_type": "code",
   "execution_count": 16,
   "metadata": {
    "collapsed": false
   },
   "outputs": [
    {
     "data": {
      "text/plain": [
       "['#usa', '#usa', '#aou']"
      ]
     },
     "execution_count": 16,
     "metadata": {},
     "output_type": "execute_result"
    }
   ],
   "source": [
    "\n",
    "tweet_string = ' '.join(str(e) for e in tweets)\n",
    "#tweet_string\n",
    "all_hasttags=[i  for i in tweet_string.split() if i.startswith(\"#\") ]\n",
    "all_hasttags[:3]"
   ]
  },
  {
   "cell_type": "code",
   "execution_count": 17,
   "metadata": {
    "collapsed": false
   },
   "outputs": [
    {
     "data": {
      "text/plain": [
       "'string With Punctuation'"
      ]
     },
     "execution_count": 17,
     "metadata": {},
     "output_type": "execute_result"
    }
   ],
   "source": [
    "s = \"string [With] [Punctuation?\" # Sample string \n",
    "translator = str.maketrans(\"\",\"\", \"?,[,]\")\n",
    "out = s.translate(translator)\n",
    "out"
   ]
  },
  {
   "cell_type": "code",
   "execution_count": 18,
   "metadata": {
    "collapsed": false
   },
   "outputs": [],
   "source": [
    "for word in tweets:\n",
    "        # Hashtags - tokenize and build dict of tag counts\n",
    "        if (word[0:1] == '#' and len(word) > 1):\n",
    "            translator = str.maketrans(\"\",\"\", string.punctuation)\n",
    "            key = word.translate(translator)\n",
    "            count=freq.get(word,0)\n",
    "            freq[word]=count + 1\n",
    "            if key in tag_dict:\n",
    "                tag_dict[key] += 1\n",
    "            else:\n",
    "                tag_dict[key] = 1"
   ]
  },
  {
   "cell_type": "code",
   "execution_count": 19,
   "metadata": {
    "collapsed": true
   },
   "outputs": [],
   "source": [
    "hashs={}\n",
    "hash_results = []"
   ]
  },
  {
   "cell_type": "code",
   "execution_count": 20,
   "metadata": {
    "collapsed": true
   },
   "outputs": [],
   "source": [
    "for word in all_hasttags:\n",
    "    count=hashs.get(word,0)\n",
    "    hashs[word]=count + 1"
   ]
  },
  {
   "cell_type": "code",
   "execution_count": 21,
   "metadata": {
    "collapsed": false
   },
   "outputs": [],
   "source": [
    "#hashs\n"
   ]
  },
  {
   "cell_type": "code",
   "execution_count": 22,
   "metadata": {
    "collapsed": false
   },
   "outputs": [],
   "source": [
    "frequency_list = hashs.keys()\n",
    "\n",
    "for words in frequency_list:\n",
    "    tuple = (words, hashs[words])\n",
    "    hash_results.append(tuple)"
   ]
  },
  {
   "cell_type": "code",
   "execution_count": 23,
   "metadata": {
    "collapsed": false
   },
   "outputs": [],
   "source": [
    "byFreq=sorted(hash_results, key=lambda word: word[1], reverse=True)\n",
    "#byFreq[:10]"
   ]
  },
  {
   "cell_type": "code",
   "execution_count": 24,
   "metadata": {
    "collapsed": false
   },
   "outputs": [
    {
     "name": "stdout",
     "output_type": "stream",
     "text": [
      "Top 10 hashtags:\n",
      "----------------\n",
      "#usa  ->  94\n",
      "#jobs  ->  13\n",
      "#hiring  ->  10\n",
      "#job  ->  10\n",
      "#mba  ->  8\n",
      "#mls  ->  8\n",
      "#careerarc  ->  8\n",
      "#soccer  ->  8\n",
      "#news  ->  6\n",
      "#hockey  ->  4\n"
     ]
    }
   ],
   "source": [
    "# The 10 most popular tags and counts\n",
    "print ('Top 10 hashtags:')\n",
    "print ('----------------')\n",
    "for (word, freq) in byFreq[:10]:\n",
    "    print (word, ' -> ' ,freq)"
   ]
  },
  {
   "cell_type": "code",
   "execution_count": 25,
   "metadata": {
    "collapsed": false
   },
   "outputs": [
    {
     "data": {
      "text/plain": [
       "['@socialism4jobs:', '@phammondmp', '@earth___planet:']"
      ]
     },
     "execution_count": 25,
     "metadata": {},
     "output_type": "execute_result"
    }
   ],
   "source": [
    "# The 10 most popular tags and counts\n",
    "tweet_string = ' '.join(str(e) for e in tweets)\n",
    "#tweet_string\n",
    "all_mentions=[i  for i in tweet_string.split() if i.startswith(\"@\") ]\n",
    "all_mentions[:3]"
   ]
  },
  {
   "cell_type": "code",
   "execution_count": 26,
   "metadata": {
    "collapsed": false
   },
   "outputs": [
    {
     "name": "stdout",
     "output_type": "stream",
     "text": [
      "Top 10 mentions:\n",
      "---------------- \n",
      "\n",
      "@mikewalters19  ->  4\n",
      "@thepatriot143  ->  4\n",
      "@marylene58  ->  4\n",
      "@popstherock33  ->  4\n",
      "@theboodge66  ->  4\n",
      "@redlinepatriot  ->  4\n",
      "@stevej132  ->  4\n",
      "@bhattnaturally1:  ->  4\n",
      "@oraliasotoroman:  ->  3\n",
      "@oneladylibra:  ->  3\n"
     ]
    }
   ],
   "source": [
    "mentions={}\n",
    "mentions_results = []\n",
    "for word in all_mentions:\n",
    "    count=mentions.get(word,0)\n",
    "    mentions[word]=count + 1\n",
    "frequency_list = mentions.keys()\n",
    "\n",
    "for words in frequency_list:\n",
    "    tuple = (words, mentions[words])\n",
    "    mentions_results.append(tuple)\n",
    "byFreq=sorted(mentions_results, key=lambda word: word[1], reverse=True)\n",
    "#byFreq[:10]\n",
    "# The 10 most popular tags and counts\n",
    "print ('Top 10 mentions:')\n",
    "print ('----------------','\\n')\n",
    "for (word, freq) in byFreq[:10]:\n",
    "    print (word, ' -> ' ,freq)"
   ]
  },
  {
   "cell_type": "code",
   "execution_count": 27,
   "metadata": {
    "collapsed": true
   },
   "outputs": [],
   "source": [
    "# Time-series impressions (DOW, HOD, etc) (0 = Sunday... 6 = Saturday)\n",
    "gmt_offset = -4"
   ]
  },
  {
   "cell_type": "code",
   "execution_count": 28,
   "metadata": {
    "collapsed": true
   },
   "outputs": [],
   "source": [
    "#Create proper datetime column, apply local GMT offset\n",
    "tweet_df['ts'] = pd.to_datetime(tweet_df['time'])\n",
    "tweet_df['ts'] = tweet_df.ts + pd.to_timedelta(gmt_offset, unit='h')"
   ]
  },
  {
   "cell_type": "code",
   "execution_count": 29,
   "metadata": {
    "collapsed": true
   },
   "outputs": [],
   "source": [
    "# Add hour of day and day of week columns\n",
    "tweet_df['hod'] = [t.hour for t in tweet_df.ts]\n",
    "tweet_df['dow'] = [t.dayofweek for t in tweet_df.ts]"
   ]
  },
  {
   "cell_type": "code",
   "execution_count": 30,
   "metadata": {
    "collapsed": false
   },
   "outputs": [
    {
     "data": {
      "text/plain": [
       "0    5\n",
       "1    4\n",
       "Name: dow, dtype: int64"
      ]
     },
     "execution_count": 30,
     "metadata": {},
     "output_type": "execute_result"
    }
   ],
   "source": [
    "tweet_df['dow'][:2]"
   ]
  },
  {
   "cell_type": "code",
   "execution_count": 31,
   "metadata": {
    "collapsed": true
   },
   "outputs": [],
   "source": [
    "hod_dict = {}\n",
    "hod_count = {}\n",
    "dow_dict = {}\n",
    "dow_count = {}\n",
    "weekday_dict = {0: 'Mon', 1: 'Tue', 2: 'Wed', 3: 'Thu', 4: 'Fri', 5: 'Sat', 6: 'Sun'}"
   ]
  },
  {
   "cell_type": "code",
   "execution_count": 32,
   "metadata": {
    "collapsed": true
   },
   "outputs": [],
   "source": [
    "# Process tweets, collect stats\n",
    "for i in tweet_df.index:\n",
    "    hod = tweet_df.ix[i]['hod']\n",
    "    dow = tweet_df.ix[i]['dow']\n",
    "    imp = tweet_df.ix[i]['impressions']\n",
    "    if hod in hod_dict:\n",
    "        hod_dict[hod] += int(imp)\n",
    "        hod_count[hod] += 1\n",
    "    else:\n",
    "        hod_dict[hod] = int(imp)\n",
    "        hod_count[hod] = 1\n",
    "\n",
    "    if dow in dow_dict:\n",
    "        dow_dict[dow] += int(imp)\n",
    "        dow_count[dow] += 1\n",
    "    else:\n",
    "        dow_dict[dow] = int(imp)\n",
    "        dow_count[dow] = 1"
   ]
  },
  {
   "cell_type": "code",
   "execution_count": 33,
   "metadata": {
    "collapsed": false
   },
   "outputs": [
    {
     "name": "stdout",
     "output_type": "stream",
     "text": [
      "Average impressions per tweet by hour tweeted:\n",
      "---------------------------------------------- \n",
      "\n",
      "0 - 1 : 1384.0 => 6 tweets\n",
      "1 - 2 : 3018.0 => 6 tweets\n",
      "2 - 3 : 2829.0 => 6 tweets\n",
      "3 - 4 : 3199.0 => 7 tweets\n",
      "4 - 5 : 2256.0 => 2 tweets\n",
      "5 - 6 : 2396.0 => 5 tweets\n",
      "6 - 7 : 2423.0 => 4 tweets\n",
      "7 - 8 : 1259.0 => 5 tweets\n",
      "8 - 9 : 2022.0 => 4 tweets\n",
      "9 - 10 : 4556.0 => 2 tweets\n",
      "10 - 11 : 3808.0 => 3 tweets\n",
      "11 - 12 : 2506.0 => 4 tweets\n",
      "12 - 13 : 3338.0 => 4 tweets\n",
      "13 - 14 : 4324.0 => 3 tweets\n",
      "14 - 15 : 3592.0 => 4 tweets\n",
      "15 - 16 : 3088.0 => 8 tweets\n",
      "16 - 17 : 2643.0 => 3 tweets\n",
      "17 - 18 : 1669.0 => 4 tweets\n",
      "18 - 19 : 3918.0 => 2 tweets\n",
      "19 - 20 : 2258.0 => 4 tweets\n",
      "21 - 22 : 2484.0 => 9 tweets\n",
      "22 - 23 : 3602.0 => 4 tweets\n",
      "23 - 24 : 2003.0 => 4 tweets\n"
     ]
    }
   ],
   "source": [
    "print ('Average impressions per tweet by hour tweeted:')\n",
    "print ('----------------------------------------------','\\n')\n",
    "for hod in hod_dict:\n",
    "    print( hod, '-', hod+1, ':',round(hod_dict[hod]/hod_count[hod],0), '=>', hod_count[hod], 'tweets')"
   ]
  },
  {
   "cell_type": "code",
   "execution_count": 34,
   "metadata": {
    "collapsed": true
   },
   "outputs": [],
   "source": [
    "words_names=[]\n",
    "words_count=[]"
   ]
  },
  {
   "cell_type": "code",
   "execution_count": 35,
   "metadata": {
    "collapsed": false,
    "scrolled": true
   },
   "outputs": [
    {
     "name": "stdout",
     "output_type": "stream",
     "text": [
      "\n",
      "Average impressions per tweet by day of week tweeted:\n",
      "---------------------------------------------- \n",
      "\n",
      "Mon : 2610.0 => 9  tweets\n",
      "Tue : 3358.0 => 20  tweets\n",
      "Wed : 2231.0 => 15  tweets\n",
      "Thu : 2458.0 => 11  tweets\n",
      "Fri : 2882.0 => 15  tweets\n",
      "Sat : 2895.0 => 17  tweets\n",
      "Sun : 2184.0 => 16  tweets\n"
     ]
    }
   ],
   "source": [
    "print ('\\nAverage impressions per tweet by day of week tweeted:')\n",
    "print ('----------------------------------------------','\\n')\n",
    "for dow in dow_dict:\n",
    "    print (weekday_dict[dow], ':', round(dow_dict[dow]/dow_count[dow],0), '=>', dow_count[dow], ' tweets')\n",
    "    words_names.append(weekday_dict[dow])\n",
    "    words_count.append(dow_count[dow])"
   ]
  },
  {
   "cell_type": "code",
   "execution_count": 37,
   "metadata": {
    "collapsed": false
   },
   "outputs": [],
   "source": [
    "import matplotlib.pyplot as plt\n",
    "import numpy as np\n",
    "#import seaborn"
   ]
  },
  {
   "cell_type": "code",
   "execution_count": 38,
   "metadata": {
    "collapsed": false
   },
   "outputs": [
    {
     "data": {
      "image/png": "[encoded data removed]",
      "text/plain": [
       "<matplotlib.figure.Figure at 0x78e5910>"
      ]
     },
     "metadata": {},
     "output_type": "display_data"
    }
   ],
   "source": [
    "# Plot histogram using matplotlib bar()\n",
    "plt.xlabel('Days of week')\n",
    "plt.ylabel('Tweets')\n",
    "plt.title('Average impressions per tweet by day of week tweeted')\n",
    "indexes = np.arange(len(words_names) )\n",
    "width = .4\n",
    "plt.bar(indexes, words_count, width)\n",
    "plt.xticks(indexes + width * .4, words_names)\n",
    "#plt.legend()\n",
    "plt.tight_layout()\n",
    "plt.show()"
   ]
  },
  {
   "cell_type": "code",
   "execution_count": 39,
   "metadata": {
    "collapsed": false
   },
   "outputs": [
    {
     "data": {
      "image/png": "[encoded data removed]",
      "text/plain": [
       "<matplotlib.figure.Figure at 0x7905790>"
      ]
     },
     "metadata": {},
     "output_type": "display_data"
    }
   ],
   "source": [
    "fig, ax = plt.subplots()    \n",
    "width = 0.56 # the width of the bars \n",
    "ind = np.arange(len(words_count))  # the x locations for the groups\n",
    "ax.barh(ind, words_count, width, color=\"blue\")\n",
    "ax.set_yticks(ind+width/2)\n",
    "ax.set_yticklabels(words_names, minor=False)\n",
    "plt.title('Average impressions per tweet by day of week tweeted')\n",
    "plt.xlabel('No of Tweets')\n",
    "plt.ylabel('Days of week') \n",
    "for i, v in enumerate(words_count):\n",
    "    ax.text(v + 0.2, i + .2, str(v), color='blue', fontweight='bold')\n",
    "plt.show()"
   ]
  },
  {
   "cell_type": "markdown",
   "metadata": {},
   "source": [
    "# I want to give a shout-out to following references:"
   ]
  },
  {
   "cell_type": "markdown",
   "metadata": {
    "collapsed": false
   },
   "source": [
    "## Reference: http://www.kdnuggets.com/2017/03/beginners-guide-tweet-analytics-pandas.html"
   ]
  },
  {
   "cell_type": "markdown",
   "metadata": {
    "collapsed": true
   },
   "source": [
    "### Reference: http://stackoverflow.com/questions/30228069/how-to-display-the-value-of-the-bar-on-each-bar-with-pyplot-barh"
   ]
  },
  {
   "cell_type": "markdown",
   "metadata": {},
   "source": [
    "### Excel Date and time Generator: https://www.extendoffice.com/documents/excel/1781-excel-generate-random-time.html"
   ]
  },
  {
   "cell_type": "code",
   "execution_count": null,
   "metadata": {
    "collapsed": true
   },
   "outputs": [],
   "source": []
  }
 ],
 "metadata": {
  "kernelspec": {
   "display_name": "Python 3",
   "language": "python",
   "name": "python3"
  },
  "language_info": {
   "codemirror_mode": {
    "name": "ipython",
    "version": 3
   },
   "file_extension": ".py",
   "mimetype": "text/x-python",
   "name": "python",
   "nbconvert_exporter": "python",
   "pygments_lexer": "ipython3",
   "version": "3.5.2"
  }
 },
 "nbformat": 4,
 "nbformat_minor": 1
}
