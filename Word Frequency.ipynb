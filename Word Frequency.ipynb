{
 "cells": [
  {
   "cell_type": "markdown",
   "metadata": {},
   "source": [
    "# Counting and plotting word frequency from a file"
   ]
  },
  {
   "cell_type": "code",
   "execution_count": 1,
   "metadata": {
    "collapsed": true
   },
   "outputs": [],
   "source": [
    "import re\n",
    "import string"
   ]
  },
  {
   "cell_type": "code",
   "execution_count": 2,
   "metadata": {
    "collapsed": true
   },
   "outputs": [],
   "source": [
    "freq={}"
   ]
  },
  {
   "cell_type": "code",
   "execution_count": 3,
   "metadata": {
    "collapsed": true
   },
   "outputs": [],
   "source": [
    "read_text=open('WordCount.txt','r')"
   ]
  },
  {
   "cell_type": "markdown",
   "metadata": {},
   "source": [
    "#### make everything to lower"
   ]
  },
  {
   "cell_type": "code",
   "execution_count": 4,
   "metadata": {
    "collapsed": true
   },
   "outputs": [],
   "source": [
    "final_text=read_text.read().lower()"
   ]
  },
  {
   "cell_type": "code",
   "execution_count": 5,
   "metadata": {
    "collapsed": false
   },
   "outputs": [],
   "source": [
    "#print(final_text)"
   ]
  },
  {
   "cell_type": "code",
   "execution_count": 6,
   "metadata": {
    "collapsed": true
   },
   "outputs": [],
   "source": [
    "match_pattern = re.findall(r'\\b[a-z]{3,15}\\b', final_text)"
   ]
  },
  {
   "cell_type": "code",
   "execution_count": 7,
   "metadata": {
    "collapsed": false
   },
   "outputs": [
    {
     "data": {
      "text/plain": [
       "['good', 'time', 'fan']"
      ]
     },
     "execution_count": 7,
     "metadata": {},
     "output_type": "execute_result"
    }
   ],
   "source": [
    "match_pattern[:3]"
   ]
  },
  {
   "cell_type": "code",
   "execution_count": 8,
   "metadata": {
    "collapsed": true
   },
   "outputs": [],
   "source": [
    "for word in match_pattern:\n",
    "    count=freq.get(word,0)\n",
    "    freq[word]=count + 1"
   ]
  },
  {
   "cell_type": "code",
   "execution_count": 9,
   "metadata": {
    "collapsed": false
   },
   "outputs": [],
   "source": [
    "frequency_list = freq.keys()"
   ]
  },
  {
   "cell_type": "code",
   "execution_count": 10,
   "metadata": {
    "collapsed": false
   },
   "outputs": [
    {
     "name": "stdout",
     "output_type": "stream",
     "text": [
      "him -> 1\n",
      "not -> 1\n",
      "fond -> 1\n",
      "things -> 1\n",
      "those -> 1\n",
      "there -> 1\n",
      "were -> 1\n",
      "never -> 1\n",
      "few -> 1\n",
      "replaced -> 1\n",
      "resounding -> 1\n",
      "man -> 1\n",
      "closer -> 1\n",
      "start -> 1\n",
      "father -> 1\n",
      "year -> 1\n",
      "months -> 1\n",
      "time -> 1\n",
      "returned -> 1\n",
      "action -> 1\n",
      "old -> 1\n",
      "circumstances -> 1\n",
      "every -> 1\n",
      "having -> 1\n",
      "launch -> 1\n",
      "surrounding -> 1\n",
      "his -> 1\n",
      "colleagues -> 1\n",
      "comic -> 2\n",
      "been -> 1\n",
      "blue -> 1\n",
      "hero -> 1\n",
      "question -> 1\n",
      "wife -> 1\n",
      "success -> 1\n",
      "after -> 1\n",
      "himself -> 1\n",
      "issue -> 1\n",
      "while -> 1\n",
      "finally -> 1\n",
      "jonathan -> 1\n",
      "lingering -> 1\n",
      "sure -> 1\n",
      "sees -> 1\n",
      "boy -> 1\n",
      "folded -> 1\n",
      "steel -> 1\n",
      "changed -> 1\n",
      "fans -> 1\n",
      "but -> 3\n",
      "younger -> 1\n",
      "new -> 5\n",
      "have -> 1\n",
      "lane -> 1\n",
      "somewhat -> 1\n",
      "delivered -> 1\n",
      "scout -> 1\n",
      "last -> 1\n",
      "son -> 1\n",
      "story -> 1\n",
      "big -> 1\n",
      "this -> 1\n",
      "reinvigorated -> 1\n",
      "older -> 2\n",
      "fate -> 1\n",
      "saw -> 1\n",
      "make -> 1\n",
      "uncertainty -> 1\n",
      "superman -> 7\n",
      "leaves -> 1\n",
      "boost -> 1\n",
      "and -> 9\n",
      "outright -> 1\n",
      "universe -> 1\n",
      "biggest -> 1\n",
      "happy -> 1\n",
      "bit -> 1\n",
      "reborn -> 1\n",
      "comics -> 1\n",
      "behind -> 1\n",
      "back -> 1\n",
      "into -> 1\n",
      "from -> 1\n",
      "needed -> 1\n",
      "seemed -> 1\n",
      "under -> 1\n",
      "like -> 1\n",
      "died -> 2\n",
      "book -> 2\n",
      "good -> 1\n",
      "version -> 1\n",
      "has -> 1\n",
      "rebirth -> 1\n",
      "husband -> 1\n",
      "kent -> 1\n",
      "tease -> 1\n",
      "everything -> 1\n",
      "was -> 1\n",
      "twist -> 1\n",
      "lois -> 1\n",
      "one -> 1\n",
      "fan -> 2\n",
      "the -> 18\n",
      "all -> 1\n",
      "mystery -> 1\n",
      "mysterious -> 1\n",
      "previous -> 1\n"
     ]
    }
   ],
   "source": [
    "for words in frequency_list:\n",
    "    print(words + ' -> ' + str(freq[words]))"
   ]
  },
  {
   "cell_type": "code",
   "execution_count": 11,
   "metadata": {
    "collapsed": true
   },
   "outputs": [],
   "source": [
    "results = []"
   ]
  },
  {
   "cell_type": "code",
   "execution_count": 12,
   "metadata": {
    "collapsed": false
   },
   "outputs": [],
   "source": [
    "for word in frequency_list:\n",
    "    tuple = (word, freq[word])\n",
    "    results.append(tuple)"
   ]
  },
  {
   "cell_type": "markdown",
   "metadata": {},
   "source": [
    "#### sorting by word count"
   ]
  },
  {
   "cell_type": "code",
   "execution_count": 13,
   "metadata": {
    "collapsed": false
   },
   "outputs": [],
   "source": [
    "byFreq=sorted(results, key=lambda word: word[1], reverse=True)"
   ]
  },
  {
   "cell_type": "code",
   "execution_count": 14,
   "metadata": {
    "collapsed": false
   },
   "outputs": [
    {
     "data": {
      "text/plain": [
       "[('the', 18),\n",
       " ('and', 9),\n",
       " ('superman', 7),\n",
       " ('new', 5),\n",
       " ('but', 3),\n",
       " ('comic', 2),\n",
       " ('older', 2),\n",
       " ('died', 2),\n",
       " ('book', 2),\n",
       " ('fan', 2)]"
      ]
     },
     "execution_count": 14,
     "metadata": {},
     "output_type": "execute_result"
    }
   ],
   "source": [
    "byFreq[:10]"
   ]
  },
  {
   "cell_type": "markdown",
   "metadata": {},
   "source": [
    "### Top 10 Frequent words"
   ]
  },
  {
   "cell_type": "code",
   "execution_count": 15,
   "metadata": {
    "collapsed": false
   },
   "outputs": [
    {
     "name": "stdout",
     "output_type": "stream",
     "text": [
      "the 18\n",
      "and 9\n",
      "superman 7\n",
      "new 5\n",
      "but 3\n",
      "comic 2\n",
      "older 2\n",
      "died 2\n",
      "book 2\n",
      "fan 2\n"
     ]
    }
   ],
   "source": [
    "words_names=[]\n",
    "words_count=[]\n",
    "for (word, freq) in byFreq[:10]:\n",
    "    print (word, freq)\n",
    "    words_names.append(word)\n",
    "    words_count.append(freq)    "
   ]
  },
  {
   "cell_type": "code",
   "execution_count": 16,
   "metadata": {
    "collapsed": false
   },
   "outputs": [],
   "source": [
    "import matplotlib.pyplot as plt\n",
    "import numpy as np"
   ]
  },
  {
   "cell_type": "code",
   "execution_count": 17,
   "metadata": {
    "collapsed": false,
    "scrolled": true
   },
   "outputs": [
    {
     "data": {
      "image/png": "[encoded data removed]",
      "text/plain": [
       "<matplotlib.figure.Figure at 0x6e74b30>"
      ]
     },
     "metadata": {},
     "output_type": "display_data"
    }
   ],
   "source": [
    "# Plot histogram using matplotlib bar()\n",
    "plt.xlabel('Top 10 Words')\n",
    "plt.ylabel('Frequency')\n",
    "plt.title('Plotting Word Frequency')\n",
    "indexes = np.arange(len(words_names) )\n",
    "width = .4\n",
    "plt.bar(indexes, words_count, width)\n",
    "plt.xticks(indexes + width * .4, words_names)\n",
    "#plt.legend()\n",
    "plt.tight_layout()\n",
    "plt.show()"
   ]
  },
  {
   "cell_type": "markdown",
   "metadata": {
    "collapsed": true
   },
   "source": [
    "### Reference 1: https://code.tutsplus.com/tutorials/counting-word-frequency-in-a-file-using-python--cms-25965"
   ]
  },
  {
   "cell_type": "markdown",
   "metadata": {},
   "source": [
    "### Reference 2: http://matplotlib.org/examples/pylab_examples/barchart_demo.html"
   ]
  },
  {
   "cell_type": "code",
   "execution_count": null,
   "metadata": {
    "collapsed": true
   },
   "outputs": [],
   "source": []
  }
 ],
 "metadata": {
  "kernelspec": {
   "display_name": "Python 3",
   "language": "python",
   "name": "python3"
  },
  "language_info": {
   "codemirror_mode": {
    "name": "ipython",
    "version": 3
   },
   "file_extension": ".py",
   "mimetype": "text/x-python",
   "name": "python",
   "nbconvert_exporter": "python",
   "pygments_lexer": "ipython3",
   "version": "3.5.2"
  }
 },
 "nbformat": 4,
 "nbformat_minor": 1
}
